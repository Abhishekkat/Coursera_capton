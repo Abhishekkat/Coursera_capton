{
  "nbformat": 4,
  "nbformat_minor": 0,
  "metadata": {
    "colab": {
      "name": "step1.ipynb",
      "provenance": [],
      "authorship_tag": "ABX9TyOCSTXBtj3Y6XyV+u9O/fvT",
      "include_colab_link": true
    },
    "kernelspec": {
      "name": "python3",
      "display_name": "Python 3"
    },
    "language_info": {
      "name": "python"
    }
  },
  "cells": [
    {
      "cell_type": "markdown",
      "metadata": {
        "id": "view-in-github",
        "colab_type": "text"
      },
      "source": [
        "<a href=\"https://colab.research.google.com/github/Abhishekkat/Coursera_capton/blob/main/step1.ipynb\" target=\"_parent\"><img src=\"https://colab.research.google.com/assets/colab-badge.svg\" alt=\"Open In Colab\"/></a>"
      ]
    },
    {
      "cell_type": "code",
      "metadata": {
        "id": "Lq1iohgFUzJg"
      },
      "source": [
        ""
      ],
      "execution_count": null,
      "outputs": []
    },
    {
      "cell_type": "markdown",
      "metadata": {
        "id": "NHGbVe7vU0S5"
      },
      "source": [
        "Excercise : 1"
      ]
    },
    {
      "cell_type": "code",
      "metadata": {
        "colab": {
          "base_uri": "https://localhost:8080/"
        },
        "id": "7eYRsd6SPNKr",
        "outputId": "3ac2f5c6-894a-47d5-d07c-16168c4adde9"
      },
      "source": [
        "print('Hello world')"
      ],
      "execution_count": 2,
      "outputs": [
        {
          "output_type": "stream",
          "text": [
            "Hello world\n"
          ],
          "name": "stdout"
        }
      ]
    },
    {
      "cell_type": "code",
      "metadata": {
        "colab": {
          "base_uri": "https://localhost:8080/"
        },
        "id": "6GULsi3oPQtQ",
        "outputId": "2316e4a5-40c6-43b4-b43f-7d626f7dfcf8"
      },
      "source": [
        "print(\"I am new to python!\")"
      ],
      "execution_count": 3,
      "outputs": [
        {
          "output_type": "stream",
          "text": [
            "I am new to python!\n"
          ],
          "name": "stdout"
        }
      ]
    },
    {
      "cell_type": "markdown",
      "metadata": {
        "id": "Obt9-85CVBjy"
      },
      "source": [
        ""
      ]
    },
    {
      "cell_type": "code",
      "metadata": {
        "colab": {
          "base_uri": "https://localhost:8080/"
        },
        "id": "-pwXmStlQalS",
        "outputId": "66ed00a6-b17b-4103-9045-4063c072ad1c"
      },
      "source": [
        "help(print)"
      ],
      "execution_count": 4,
      "outputs": [
        {
          "output_type": "stream",
          "text": [
            "Help on built-in function print in module builtins:\n",
            "\n",
            "print(...)\n",
            "    print(value, ..., sep=' ', end='\\n', file=sys.stdout, flush=False)\n",
            "    \n",
            "    Prints the values to a stream, or to sys.stdout by default.\n",
            "    Optional keyword arguments:\n",
            "    file:  a file-like object (stream); defaults to the current sys.stdout.\n",
            "    sep:   string inserted between values, default a space.\n",
            "    end:   string appended after the last value, default a newline.\n",
            "    flush: whether to forcibly flush the stream.\n",
            "\n"
          ],
          "name": "stdout"
        }
      ]
    },
    {
      "cell_type": "markdown",
      "metadata": {
        "id": "T_1zFUKoVHmS"
      },
      "source": [
        "**Excercise : 2**"
      ]
    },
    {
      "cell_type": "code",
      "metadata": {
        "colab": {
          "base_uri": "https://localhost:8080/"
        },
        "id": "nh0X4419Qfye",
        "outputId": "ff8d0ac4-0c67-421a-abe5-6e60385665ac"
      },
      "source": [
        "print(\"I am Learning python\") #It is a print function \n"
      ],
      "execution_count": 5,
      "outputs": [
        {
          "output_type": "stream",
          "text": [
            "I am Learning python\n"
          ],
          "name": "stdout"
        }
      ]
    },
    {
      "cell_type": "markdown",
      "metadata": {
        "id": "FhUdZwxKVo6B"
      },
      "source": [
        "**Excercise : 3**"
      ]
    },
    {
      "cell_type": "code",
      "metadata": {
        "colab": {
          "base_uri": "https://localhost:8080/"
        },
        "id": "IZKzKg2uTFqg",
        "outputId": "a1ef0815-7e0c-4fb9-a813-0564ccccbd11"
      },
      "source": [
        "age=input('What is your age ')\n",
        "print('Welcome to the world of python,', age )"
      ],
      "execution_count": 9,
      "outputs": [
        {
          "output_type": "stream",
          "text": [
            "What is your age 18\n",
            "Welcome to the world of python, 18\n"
          ],
          "name": "stdout"
        }
      ]
    },
    {
      "cell_type": "code",
      "metadata": {
        "id": "8n9FtUXeUtUi"
      },
      "source": [
        ""
      ],
      "execution_count": null,
      "outputs": []
    },
    {
      "cell_type": "markdown",
      "metadata": {
        "id": "DQ01o__TWFEy"
      },
      "source": [
        "**Excercise : 4**"
      ]
    },
    {
      "cell_type": "code",
      "metadata": {
        "id": "lMRaQh-PXnd3"
      },
      "source": [
        ""
      ],
      "execution_count": null,
      "outputs": []
    },
    {
      "cell_type": "code",
      "metadata": {
        "colab": {
          "base_uri": "https://localhost:8080/"
        },
        "id": "6UL5k5XmUvCO",
        "outputId": "451ab147-0eeb-41eb-ec9c-4bdcf85b8b00"
      },
      "source": [
        "first_name=input('what is your name')\n",
        "print(first_name,'I am glad you started learing python at the age of,',age)"
      ],
      "execution_count": 10,
      "outputs": [
        {
          "output_type": "stream",
          "text": [
            "what is your nameAbhishek\n",
            "Abhishek I am glad you started learing python at the age of, 18\n"
          ],
          "name": "stdout"
        }
      ]
    },
    {
      "cell_type": "markdown",
      "metadata": {
        "id": "wsbgrlJGUwz6"
      },
      "source": [
        "**Excercise :5**"
      ]
    },
    {
      "cell_type": "code",
      "metadata": {
        "colab": {
          "base_uri": "https://localhost:8080/"
        },
        "id": "5ffZJy7iUOw2",
        "outputId": "4fb1cc1c-017b-4977-c5f5-24670e2e51b4"
      },
      "source": [
        "discount=43.8\n",
        "type(discount)\n"
      ],
      "execution_count": 14,
      "outputs": [
        {
          "output_type": "execute_result",
          "data": {
            "text/plain": [
              "float"
            ]
          },
          "metadata": {},
          "execution_count": 14
        }
      ]
    },
    {
      "cell_type": "code",
      "metadata": {
        "colab": {
          "base_uri": "https://localhost:8080/"
        },
        "id": "YhUrY-vHYBNd",
        "outputId": "a42aa832-f5a4-40ae-e8a0-02059d477624"
      },
      "source": [
        "hight=143\n",
        "type(hight)\n"
      ],
      "execution_count": 15,
      "outputs": [
        {
          "output_type": "execute_result",
          "data": {
            "text/plain": [
              "int"
            ]
          },
          "metadata": {},
          "execution_count": 15
        }
      ]
    },
    {
      "cell_type": "code",
      "metadata": {
        "colab": {
          "base_uri": "https://localhost:8080/"
        },
        "id": "_oeAS1_9Yiy2",
        "outputId": "ab665f28-9405-4555-e284-edae495c6af0"
      },
      "source": [
        "address='#301,pelican'\n",
        "type(address)"
      ],
      "execution_count": 16,
      "outputs": [
        {
          "output_type": "execute_result",
          "data": {
            "text/plain": [
              "str"
            ]
          },
          "metadata": {},
          "execution_count": 16
        }
      ]
    },
    {
      "cell_type": "code",
      "metadata": {
        "id": "moXtH5qCYj44"
      },
      "source": [
        ""
      ],
      "execution_count": null,
      "outputs": []
    },
    {
      "cell_type": "markdown",
      "metadata": {
        "id": "pOhTMfsIZkBw"
      },
      "source": [
        "**Excercise :6**"
      ]
    },
    {
      "cell_type": "code",
      "metadata": {
        "colab": {
          "base_uri": "https://localhost:8080/"
        },
        "id": "VGbajtEnZrdf",
        "outputId": "3d8b5647-9e2f-4a62-8b0e-9c9cb484a1c6"
      },
      "source": [
        "my_favs=['blue','chicken','jhansi']\n",
        "print(my_favs)"
      ],
      "execution_count": 17,
      "outputs": [
        {
          "output_type": "stream",
          "text": [
            "['blue', 'chicken', 'jhansi']\n"
          ],
          "name": "stdout"
        }
      ]
    },
    {
      "cell_type": "code",
      "metadata": {
        "id": "DjOOrqJ6acaT"
      },
      "source": [
        ""
      ],
      "execution_count": null,
      "outputs": []
    },
    {
      "cell_type": "markdown",
      "metadata": {
        "id": "BxtslMKDa1NA"
      },
      "source": [
        "**Excercise :7**"
      ]
    },
    {
      "cell_type": "code",
      "metadata": {
        "colab": {
          "base_uri": "https://localhost:8080/"
        },
        "id": "lgLEIgdza5kq",
        "outputId": "76eb2082-afff-4abb-c87b-d8a574306664"
      },
      "source": [
        "count=range(4,40)\n",
        "print(len(count))"
      ],
      "execution_count": 18,
      "outputs": [
        {
          "output_type": "stream",
          "text": [
            "36\n"
          ],
          "name": "stdout"
        }
      ]
    },
    {
      "cell_type": "markdown",
      "metadata": {
        "id": "shs-qGYEdfYQ"
      },
      "source": [
        "**Excercise :8**"
      ]
    },
    {
      "cell_type": "code",
      "metadata": {
        "colab": {
          "base_uri": "https://localhost:8080/"
        },
        "id": "EOzK67QdbPBG",
        "outputId": "753b3bc6-65d6-4157-fabe-0f9449b04654"
      },
      "source": [
        "student={'Jake': 70, 'Mako':75,'Alex':75.5}\n",
        "print(student)"
      ],
      "execution_count": 19,
      "outputs": [
        {
          "output_type": "stream",
          "text": [
            "{'Jake': 70, 'Mako': 75, 'Alex': 75.5}\n"
          ],
          "name": "stdout"
        }
      ]
    },
    {
      "cell_type": "code",
      "metadata": {
        "colab": {
          "base_uri": "https://localhost:8080/"
        },
        "id": "PgI6x3JwcL4X",
        "outputId": "90dae713-25ec-44e7-a858-f300099b2f6a"
      },
      "source": [
        "print(round(2.1))"
      ],
      "execution_count": 20,
      "outputs": [
        {
          "output_type": "stream",
          "text": [
            "2\n"
          ],
          "name": "stdout"
        }
      ]
    },
    {
      "cell_type": "code",
      "metadata": {
        "colab": {
          "base_uri": "https://localhost:8080/"
        },
        "id": "Ov5tchthc10-",
        "outputId": "29125402-3d5a-4590-fcdd-ccb645918079"
      },
      "source": [
        "print(abs(2.5))"
      ],
      "execution_count": 22,
      "outputs": [
        {
          "output_type": "stream",
          "text": [
            "2.5\n"
          ],
          "name": "stdout"
        }
      ]
    },
    {
      "cell_type": "code",
      "metadata": {
        "colab": {
          "base_uri": "https://localhost:8080/"
        },
        "id": "CiK_znfqc58w",
        "outputId": "717b6111-9fbb-4927-8d5f-a1eda62170d6"
      },
      "source": [
        "print(bin(37))"
      ],
      "execution_count": 23,
      "outputs": [
        {
          "output_type": "stream",
          "text": [
            "0b100101\n"
          ],
          "name": "stdout"
        }
      ]
    },
    {
      "cell_type": "markdown",
      "metadata": {
        "id": "680DMPjUfLqn"
      },
      "source": [
        "**Excercise: 9**"
      ]
    },
    {
      "cell_type": "code",
      "metadata": {
        "colab": {
          "base_uri": "https://localhost:8080/"
        },
        "id": "N-S7tS-XdGPD",
        "outputId": "cf7c10e1-f098-4366-8249-42e55fde3bca"
      },
      "source": [
        "pi=3.14\n",
        "radius=1.2\n",
        "output=pi*radius**2\n",
        "print(output)"
      ],
      "execution_count": 25,
      "outputs": [
        {
          "output_type": "stream",
          "text": [
            "4.5216\n"
          ],
          "name": "stdout"
        }
      ]
    },
    {
      "cell_type": "markdown",
      "metadata": {
        "id": "ILGNT_p9lGlQ"
      },
      "source": [
        "**Excercise: 10**"
      ]
    },
    {
      "cell_type": "code",
      "metadata": {
        "id": "nJg8MGz1lOAE"
      },
      "source": [
        ""
      ],
      "execution_count": null,
      "outputs": []
    },
    {
      "cell_type": "code",
      "metadata": {
        "colab": {
          "base_uri": "https://localhost:8080/"
        },
        "id": "nkAa8l6WfDZt",
        "outputId": "02f7781f-e367-4c5f-e088-7d16c6051efc"
      },
      "source": [
        "print(output>=50)"
      ],
      "execution_count": 26,
      "outputs": [
        {
          "output_type": "stream",
          "text": [
            "False\n"
          ],
          "name": "stdout"
        }
      ]
    },
    {
      "cell_type": "code",
      "metadata": {
        "colab": {
          "base_uri": "https://localhost:8080/"
        },
        "id": "5QUb1ecAgJbM",
        "outputId": "dc9d1ac7-00db-4d80-b03b-63f33a71ee95"
      },
      "source": [
        "print(20 <= output <=50)"
      ],
      "execution_count": 28,
      "outputs": [
        {
          "output_type": "stream",
          "text": [
            "False\n"
          ],
          "name": "stdout"
        }
      ]
    },
    {
      "cell_type": "code",
      "metadata": {
        "colab": {
          "base_uri": "https://localhost:8080/"
        },
        "id": "d1F-7Pn-hyP5",
        "outputId": "e8af0212-6f8c-4d40-9be6-c238a24db8eb"
      },
      "source": [
        "x=5\n",
        "x += 3\n",
        "\n",
        "print(x)"
      ],
      "execution_count": 30,
      "outputs": [
        {
          "output_type": "stream",
          "text": [
            "8\n"
          ],
          "name": "stdout"
        }
      ]
    },
    {
      "cell_type": "code",
      "metadata": {
        "id": "mog4-KlEiGRL"
      },
      "source": [
        "def die(self):\n",
        "    \"\"\"I am dying.\"\"\" # Docstrings\n",
        "    print(\"{} is being destroyed!\".format(self.name)) "
      ],
      "execution_count": 32,
      "outputs": []
    },
    {
      "cell_type": "code",
      "metadata": {
        "id": "9LYoPUnkrLSA"
      },
      "source": [
        ""
      ],
      "execution_count": null,
      "outputs": []
    }
  ]
}