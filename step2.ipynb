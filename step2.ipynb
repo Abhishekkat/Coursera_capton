{
  "nbformat": 4,
  "nbformat_minor": 0,
  "metadata": {
    "colab": {
      "name": "Untitled0.ipynb",
      "provenance": [],
      "collapsed_sections": [],
      "authorship_tag": "ABX9TyPN7+2FAgVY/mPRNpuiioxi",
      "include_colab_link": true
    },
    "kernelspec": {
      "name": "python3",
      "display_name": "Python 3"
    },
    "language_info": {
      "name": "python"
    }
  },
  "cells": [
    {
      "cell_type": "markdown",
      "metadata": {
        "id": "view-in-github",
        "colab_type": "text"
      },
      "source": [
        "<a href=\"https://colab.research.google.com/github/Abhishekkat/Coursera_capton/blob/main/step2.ipynb\" target=\"_parent\"><img src=\"https://colab.research.google.com/assets/colab-badge.svg\" alt=\"Open In Colab\"/></a>"
      ]
    },
    {
      "cell_type": "code",
      "metadata": {
        "id": "OuhZvnKhtaB6"
      },
      "source": [
        ""
      ],
      "execution_count": null,
      "outputs": []
    },
    {
      "cell_type": "markdown",
      "metadata": {
        "id": "rRc6lLuTt6Cg"
      },
      "source": [
        "**Excercise:1**"
      ]
    },
    {
      "cell_type": "code",
      "metadata": {
        "colab": {
          "base_uri": "https://localhost:8080/"
        },
        "id": "B03TpWJPuA3Y",
        "outputId": "39b5a836-b5de-4c88-95f1-8aa4c7d46304"
      },
      "source": [
        "first_name=\"Abhishek\"\n",
        "last_name=\"Katroliya\"\n",
        "print(first_name)\n",
        "print(last_name)"
      ],
      "execution_count": 1,
      "outputs": [
        {
          "output_type": "stream",
          "text": [
            "Abhishek\n",
            "Katroliya\n"
          ],
          "name": "stdout"
        }
      ]
    },
    {
      "cell_type": "code",
      "metadata": {
        "id": "YpiYTuxNucbl"
      },
      "source": [
        ""
      ],
      "execution_count": null,
      "outputs": []
    },
    {
      "cell_type": "markdown",
      "metadata": {
        "id": "8Hf_naHbuy63"
      },
      "source": [
        "**Exercise:2**"
      ]
    },
    {
      "cell_type": "code",
      "metadata": {
        "colab": {
          "base_uri": "https://localhost:8080/",
          "height": 178
        },
        "id": "5StVfzeKuaRU",
        "outputId": "18dfb027-0c25-43b0-c13c-6feb982c65de"
      },
      "source": [
        "h=\"yello\"\n",
        "h=h[0:len(h) + 'w']  #throws error -we can't change once created"
      ],
      "execution_count": 4,
      "outputs": [
        {
          "output_type": "error",
          "ename": "TypeError",
          "evalue": "ignored",
          "traceback": [
            "\u001b[0;31m---------------------------------------------------------------------------\u001b[0m",
            "\u001b[0;31mTypeError\u001b[0m                                 Traceback (most recent call last)",
            "\u001b[0;32m<ipython-input-4-c1b30deba951>\u001b[0m in \u001b[0;36m<module>\u001b[0;34m()\u001b[0m\n\u001b[1;32m      1\u001b[0m \u001b[0mh\u001b[0m\u001b[0;34m=\u001b[0m\u001b[0;34m\"yello\"\u001b[0m\u001b[0;34m\u001b[0m\u001b[0;34m\u001b[0m\u001b[0m\n\u001b[0;32m----> 2\u001b[0;31m \u001b[0mh\u001b[0m\u001b[0;34m=\u001b[0m\u001b[0mh\u001b[0m\u001b[0;34m[\u001b[0m\u001b[0;36m0\u001b[0m\u001b[0;34m:\u001b[0m\u001b[0mlen\u001b[0m\u001b[0;34m(\u001b[0m\u001b[0mh\u001b[0m\u001b[0;34m)\u001b[0m \u001b[0;34m+\u001b[0m \u001b[0;34m'w'\u001b[0m\u001b[0;34m]\u001b[0m\u001b[0;34m\u001b[0m\u001b[0;34m\u001b[0m\u001b[0m\n\u001b[0m",
            "\u001b[0;31mTypeError\u001b[0m: unsupported operand type(s) for +: 'int' and 'str'"
          ]
        }
      ]
    },
    {
      "cell_type": "markdown",
      "metadata": {
        "id": "PNcFdGYNxx9E"
      },
      "source": [
        "**Excercise:3**"
      ]
    },
    {
      "cell_type": "code",
      "metadata": {
        "id": "F0ES5cxnxxfD"
      },
      "source": [
        ""
      ],
      "execution_count": null,
      "outputs": []
    },
    {
      "cell_type": "code",
      "metadata": {
        "colab": {
          "base_uri": "https://localhost:8080/"
        },
        "id": "aWNCr6x3vODA",
        "outputId": "7c4f91e9-5421-4aed-f4b0-dc501f91bd17"
      },
      "source": [
        "print(first_name + ' ' + last_name) "
      ],
      "execution_count": 5,
      "outputs": [
        {
          "output_type": "stream",
          "text": [
            "Abhishek Katroliya\n"
          ],
          "name": "stdout"
        }
      ]
    },
    {
      "cell_type": "markdown",
      "metadata": {
        "id": "vd0X51BKz1n_"
      },
      "source": [
        "**Exercise:4**"
      ]
    },
    {
      "cell_type": "code",
      "metadata": {
        "colab": {
          "base_uri": "https://localhost:8080/"
        },
        "id": "rXe1nijJxu4f",
        "outputId": "4f14d7d0-089e-4f8f-f714-159cdb413227"
      },
      "source": [
        "print(first_name*5)"
      ],
      "execution_count": 13,
      "outputs": [
        {
          "output_type": "stream",
          "text": [
            "AbhishekAbhishekAbhishekAbhishekAbhishek\n"
          ],
          "name": "stdout"
        }
      ]
    },
    {
      "cell_type": "code",
      "metadata": {
        "id": "2XRl-xuLyQnr"
      },
      "source": [
        ""
      ],
      "execution_count": null,
      "outputs": []
    },
    {
      "cell_type": "markdown",
      "metadata": {
        "id": "83xc4e5fyKOe"
      },
      "source": [
        "***Excercise:5***"
      ]
    },
    {
      "cell_type": "code",
      "metadata": {
        "colab": {
          "base_uri": "https://localhost:8080/"
        },
        "id": "h9IGh9aEyRXg",
        "outputId": "8e906229-afd5-495e-bb9f-d1fe20e65ad5"
      },
      "source": [
        "val='This is one sentence!'\n",
        "print(val[0:4])\n",
        "print(val[5:7])\n",
        "print(val[8:11])\n",
        "print(val[12:20])\n"
      ],
      "execution_count": 12,
      "outputs": [
        {
          "output_type": "stream",
          "text": [
            "This\n",
            "is\n",
            "one\n",
            "sentence\n"
          ],
          "name": "stdout"
        }
      ]
    },
    {
      "cell_type": "code",
      "metadata": {
        "id": "4gHfvxpFyrQA"
      },
      "source": [
        ""
      ],
      "execution_count": null,
      "outputs": []
    },
    {
      "cell_type": "markdown",
      "metadata": {
        "id": "nMCeh6Ss0Ssn"
      },
      "source": [
        "**Exercise: 6**"
      ]
    },
    {
      "cell_type": "code",
      "metadata": {
        "colab": {
          "base_uri": "https://localhost:8080/"
        },
        "id": "YVOWob_L0WGk",
        "outputId": "86e32935-d46e-41c0-977f-5f273da7882b"
      },
      "source": [
        "print(val[0:20])"
      ],
      "execution_count": 16,
      "outputs": [
        {
          "output_type": "stream",
          "text": [
            "This is one sentence\n"
          ],
          "name": "stdout"
        }
      ]
    },
    {
      "cell_type": "markdown",
      "metadata": {
        "id": "yFEA3Q9v4UjI"
      },
      "source": [
        "#E"
      ]
    },
    {
      "cell_type": "markdown",
      "metadata": {
        "id": "YcTNJrUb4X-p"
      },
      "source": [
        "**exercise: 7**"
      ]
    },
    {
      "cell_type": "code",
      "metadata": {
        "colab": {
          "base_uri": "https://localhost:8080/"
        },
        "id": "hjgRIKOn0jGa",
        "outputId": "5642119f-a7d2-4a96-acee-a67d44038699"
      },
      "source": [
        "grocery_list=['milk','banana','apple']\n",
        "print(grocery_list)"
      ],
      "execution_count": 17,
      "outputs": [
        {
          "output_type": "stream",
          "text": [
            "['milk', 'banana', 'apple']\n"
          ],
          "name": "stdout"
        }
      ]
    },
    {
      "cell_type": "code",
      "metadata": {
        "id": "tiW14RpP6iE_"
      },
      "source": [
        "**Exercise:8**"
      ],
      "execution_count": null,
      "outputs": []
    },
    {
      "cell_type": "code",
      "metadata": {
        "id": "1VhwVDob6qdy"
      },
      "source": [
        ""
      ],
      "execution_count": null,
      "outputs": []
    },
    {
      "cell_type": "markdown",
      "metadata": {
        "id": "g1AFl_176jl2"
      },
      "source": [
        "**Exercise:8**"
      ]
    },
    {
      "cell_type": "code",
      "metadata": {
        "colab": {
          "base_uri": "https://localhost:8080/"
        },
        "id": "YVyR9YWj1n01",
        "outputId": "d3d6aaaa-b4c4-48de-fb79-5a6af7cf2b33"
      },
      "source": [
        "print(grocery_list[1])"
      ],
      "execution_count": 18,
      "outputs": [
        {
          "output_type": "stream",
          "text": [
            "banana\n"
          ],
          "name": "stdout"
        }
      ]
    },
    {
      "cell_type": "markdown",
      "metadata": {
        "id": "DBZ95OCb6RBX"
      },
      "source": [
        "**exercise:9**"
      ]
    },
    {
      "cell_type": "markdown",
      "metadata": {
        "id": "M3JCPI_S6qIw"
      },
      "source": [
        ""
      ]
    },
    {
      "cell_type": "code",
      "metadata": {
        "colab": {
          "base_uri": "https://localhost:8080/"
        },
        "id": "UjEgdLHv8Nle",
        "outputId": "fd6b75a0-f72d-4aeb-dbed-d21bad896c22"
      },
      "source": [
        "fav_list=[['dog','monkey','parrot'],['red','blue','green'],['song1','song2']]\n",
        "print(fav_list)"
      ],
      "execution_count": 19,
      "outputs": [
        {
          "output_type": "stream",
          "text": [
            "[['dog', 'monkey', 'parrot'], ['red', 'blue', 'green'], ['song1', 'song2']]\n"
          ],
          "name": "stdout"
        }
      ]
    },
    {
      "cell_type": "markdown",
      "metadata": {
        "id": "BkhdEvq718GJ"
      },
      "source": [
        ""
      ]
    },
    {
      "cell_type": "code",
      "metadata": {
        "id": "SOXRNm6791kw"
      },
      "source": [
        ""
      ],
      "execution_count": null,
      "outputs": []
    },
    {
      "cell_type": "markdown",
      "metadata": {
        "id": "Cn4vIq4g1yfD"
      },
      "source": [
        "**Exercise: 10**"
      ]
    },
    {
      "cell_type": "markdown",
      "metadata": {
        "id": "e1L9YEyi-UJN"
      },
      "source": [
        ""
      ]
    },
    {
      "cell_type": "code",
      "metadata": {
        "colab": {
          "base_uri": "https://localhost:8080/"
        },
        "id": "sqpxDC5J92Xw",
        "outputId": "52febf59-6a21-4051-a81e-873985311e2e"
      },
      "source": [
        "grocery_list.append('almonds')\n",
        "print(grocery_list)"
      ],
      "execution_count": 21,
      "outputs": [
        {
          "output_type": "stream",
          "text": [
            "['milk', 'banana', 'apple', 'almonds', 'almonds']\n"
          ],
          "name": "stdout"
        }
      ]
    },
    {
      "cell_type": "markdown",
      "metadata": {
        "id": "sqPJhtqV-VU4"
      },
      "source": [
        "Exercise:"
      ]
    },
    {
      "cell_type": "code",
      "metadata": {
        "id": "J7ljZYYo19Hs"
      },
      "source": [
        ""
      ],
      "execution_count": null,
      "outputs": []
    }
  ]
}